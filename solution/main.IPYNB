{
 "cells": [
  {
   "cell_type": "code",
   "execution_count": null,
   "id": "initial_id",
   "metadata": {
    "collapsed": true,
    "is_executing": true
   },
   "outputs": [],
   "source": []
  },
  {
   "cell_type": "code",
   "execution_count": 4,
   "outputs": [
    {
     "name": "stdout",
     "output_type": "stream",
     "text": [
      "['player_id', 'first_name', 'last_name', 'name', 'last_season', 'current_club_id', 'player_code', 'country_of_birth', 'city_of_birth', 'country_of_citizenship', 'date_of_birth', 'sub_position', 'position', 'foot', 'height_in_cm', 'market_value_in_eur', 'highest_market_value_in_eur', 'contract_expiration_date', 'agent_name', 'image_url', 'url', 'current_club_domestic_competition_id', 'current_club_name']\n"
     ]
    }
   ],
   "source": [
    "import pandas as pd\n",
    "\n",
    "# Replace 'your_file.csv' with the actual file path\n",
    "file_path = 'data/players.csv'\n",
    "\n",
    "# Read the CSV file into a pandas DataFrame\n",
    "df = pd.read_csv(file_path)\n",
    "\n",
    "# Now, 'df' contains your data, and you can perform various operations on it\n",
    "# For example, you can display the first few rows of the DataFrame\n",
    "print(df.columns.tolist())\n",
    "\n"
   ],
   "metadata": {
    "collapsed": false,
    "ExecuteTime": {
     "end_time": "2024-03-05T19:25:59.657746Z",
     "start_time": "2024-03-05T19:25:58.098124Z"
    }
   },
   "id": "532478d7c9d471b9"
  },
  {
   "cell_type": "code",
   "execution_count": 28,
   "outputs": [
    {
     "data": {
      "text/plain": "   player_id first_name   last_name              name  last_season  \\\n0        598       Timo  Hildebrand   Timo Hildebrand         2014   \n1        670     Martin      Petrov     Martin Petrov         2012   \n2       1323     Martin     Amedick    Martin Amedick         2012   \n3       3195   Jermaine     Pennant  Jermaine Pennant         2013   \n4       3259     Damien        Duff       Damien Duff         2013   \n\n   current_club_id       player_code country_of_birth city_of_birth  \\\n0               24   timo-hildebrand          Germany         Worms   \n1              714     martin-petrov         Bulgaria        Vratsa   \n2               24    martin-amedick          Germany     Paderborn   \n3              512  jermaine-pennant          England    Nottingham   \n4              931       damien-duff          Ireland    Ballyboden   \n\n  country_of_citizenship  ...   foot height_in_cm market_value_in_eur  \\\n0                Germany  ...    NaN          NaN                 NaN   \n1               Bulgaria  ...    NaN          NaN                 NaN   \n2                Germany  ...    NaN          NaN                 NaN   \n3                England  ...  right        173.0                 NaN   \n4                Ireland  ...   left        177.0                 NaN   \n\n  highest_market_value_in_eur  contract_expiration_date  agent_name  \\\n0                  10000000.0                       NaN         NaN   \n1                  12000000.0                       NaN         IFM   \n2                   2750000.0                       NaN         NaN   \n3                  10500000.0                       NaN  Andrew Sky   \n4                  17000000.0                       NaN         NaN   \n\n                                           image_url  \\\n0  https://img.a.transfermarkt.technology/portrai...   \n1  https://img.a.transfermarkt.technology/portrai...   \n2  https://img.a.transfermarkt.technology/portrai...   \n3  https://img.a.transfermarkt.technology/portrai...   \n4  https://img.a.transfermarkt.technology/portrai...   \n\n                                                 url  \\\n0  https://www.transfermarkt.co.uk/timo-hildebran...   \n1  https://www.transfermarkt.co.uk/martin-petrov/...   \n2  https://www.transfermarkt.co.uk/martin-amedick...   \n3  https://www.transfermarkt.co.uk/jermaine-penna...   \n4  https://www.transfermarkt.co.uk/damien-duff/pr...   \n\n  current_club_domestic_competition_id       current_club_name  \n0                                   L1     Eintracht Frankfurt  \n1                                  ES1  RCD Espanyol Barcelona  \n2                                   L1     Eintracht Frankfurt  \n3                                  GB1              Stoke City  \n4                                  GB1               Fulham FC  \n\n[5 rows x 23 columns]",
      "text/html": "<div>\n<style scoped>\n    .dataframe tbody tr th:only-of-type {\n        vertical-align: middle;\n    }\n\n    .dataframe tbody tr th {\n        vertical-align: top;\n    }\n\n    .dataframe thead th {\n        text-align: right;\n    }\n</style>\n<table border=\"1\" class=\"dataframe\">\n  <thead>\n    <tr style=\"text-align: right;\">\n      <th></th>\n      <th>player_id</th>\n      <th>first_name</th>\n      <th>last_name</th>\n      <th>name</th>\n      <th>last_season</th>\n      <th>current_club_id</th>\n      <th>player_code</th>\n      <th>country_of_birth</th>\n      <th>city_of_birth</th>\n      <th>country_of_citizenship</th>\n      <th>...</th>\n      <th>foot</th>\n      <th>height_in_cm</th>\n      <th>market_value_in_eur</th>\n      <th>highest_market_value_in_eur</th>\n      <th>contract_expiration_date</th>\n      <th>agent_name</th>\n      <th>image_url</th>\n      <th>url</th>\n      <th>current_club_domestic_competition_id</th>\n      <th>current_club_name</th>\n    </tr>\n  </thead>\n  <tbody>\n    <tr>\n      <th>0</th>\n      <td>598</td>\n      <td>Timo</td>\n      <td>Hildebrand</td>\n      <td>Timo Hildebrand</td>\n      <td>2014</td>\n      <td>24</td>\n      <td>timo-hildebrand</td>\n      <td>Germany</td>\n      <td>Worms</td>\n      <td>Germany</td>\n      <td>...</td>\n      <td>NaN</td>\n      <td>NaN</td>\n      <td>NaN</td>\n      <td>10000000.0</td>\n      <td>NaN</td>\n      <td>NaN</td>\n      <td>https://img.a.transfermarkt.technology/portrai...</td>\n      <td>https://www.transfermarkt.co.uk/timo-hildebran...</td>\n      <td>L1</td>\n      <td>Eintracht Frankfurt</td>\n    </tr>\n    <tr>\n      <th>1</th>\n      <td>670</td>\n      <td>Martin</td>\n      <td>Petrov</td>\n      <td>Martin Petrov</td>\n      <td>2012</td>\n      <td>714</td>\n      <td>martin-petrov</td>\n      <td>Bulgaria</td>\n      <td>Vratsa</td>\n      <td>Bulgaria</td>\n      <td>...</td>\n      <td>NaN</td>\n      <td>NaN</td>\n      <td>NaN</td>\n      <td>12000000.0</td>\n      <td>NaN</td>\n      <td>IFM</td>\n      <td>https://img.a.transfermarkt.technology/portrai...</td>\n      <td>https://www.transfermarkt.co.uk/martin-petrov/...</td>\n      <td>ES1</td>\n      <td>RCD Espanyol Barcelona</td>\n    </tr>\n    <tr>\n      <th>2</th>\n      <td>1323</td>\n      <td>Martin</td>\n      <td>Amedick</td>\n      <td>Martin Amedick</td>\n      <td>2012</td>\n      <td>24</td>\n      <td>martin-amedick</td>\n      <td>Germany</td>\n      <td>Paderborn</td>\n      <td>Germany</td>\n      <td>...</td>\n      <td>NaN</td>\n      <td>NaN</td>\n      <td>NaN</td>\n      <td>2750000.0</td>\n      <td>NaN</td>\n      <td>NaN</td>\n      <td>https://img.a.transfermarkt.technology/portrai...</td>\n      <td>https://www.transfermarkt.co.uk/martin-amedick...</td>\n      <td>L1</td>\n      <td>Eintracht Frankfurt</td>\n    </tr>\n    <tr>\n      <th>3</th>\n      <td>3195</td>\n      <td>Jermaine</td>\n      <td>Pennant</td>\n      <td>Jermaine Pennant</td>\n      <td>2013</td>\n      <td>512</td>\n      <td>jermaine-pennant</td>\n      <td>England</td>\n      <td>Nottingham</td>\n      <td>England</td>\n      <td>...</td>\n      <td>right</td>\n      <td>173.0</td>\n      <td>NaN</td>\n      <td>10500000.0</td>\n      <td>NaN</td>\n      <td>Andrew Sky</td>\n      <td>https://img.a.transfermarkt.technology/portrai...</td>\n      <td>https://www.transfermarkt.co.uk/jermaine-penna...</td>\n      <td>GB1</td>\n      <td>Stoke City</td>\n    </tr>\n    <tr>\n      <th>4</th>\n      <td>3259</td>\n      <td>Damien</td>\n      <td>Duff</td>\n      <td>Damien Duff</td>\n      <td>2013</td>\n      <td>931</td>\n      <td>damien-duff</td>\n      <td>Ireland</td>\n      <td>Ballyboden</td>\n      <td>Ireland</td>\n      <td>...</td>\n      <td>left</td>\n      <td>177.0</td>\n      <td>NaN</td>\n      <td>17000000.0</td>\n      <td>NaN</td>\n      <td>NaN</td>\n      <td>https://img.a.transfermarkt.technology/portrai...</td>\n      <td>https://www.transfermarkt.co.uk/damien-duff/pr...</td>\n      <td>GB1</td>\n      <td>Fulham FC</td>\n    </tr>\n  </tbody>\n</table>\n<p>5 rows × 23 columns</p>\n</div>"
     },
     "execution_count": 28,
     "metadata": {},
     "output_type": "execute_result"
    }
   ],
   "source": [
    "df.head()"
   ],
   "metadata": {
    "collapsed": false,
    "ExecuteTime": {
     "end_time": "2024-03-05T18:47:30.988005Z",
     "start_time": "2024-03-05T18:47:30.973209Z"
    }
   },
   "id": "74c0a999b370d664"
  },
  {
   "cell_type": "code",
   "execution_count": null,
   "outputs": [],
   "source": [],
   "metadata": {
    "collapsed": false
   },
   "id": "f94e2f3e1135be60"
  },
  {
   "cell_type": "code",
   "execution_count": null,
   "outputs": [],
   "source": [],
   "metadata": {
    "collapsed": false
   },
   "id": "64717393ae1086c9"
  }
 ],
 "metadata": {
  "kernelspec": {
   "display_name": "Python 3",
   "language": "python",
   "name": "python3"
  },
  "language_info": {
   "codemirror_mode": {
    "name": "ipython",
    "version": 2
   },
   "file_extension": ".py",
   "mimetype": "text/x-python",
   "name": "python",
   "nbconvert_exporter": "python",
   "pygments_lexer": "ipython2",
   "version": "2.7.6"
  }
 },
 "nbformat": 4,
 "nbformat_minor": 5
}
