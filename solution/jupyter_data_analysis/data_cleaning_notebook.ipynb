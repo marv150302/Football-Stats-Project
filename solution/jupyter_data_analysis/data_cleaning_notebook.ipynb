{
 "cells": [
  {
   "cell_type": "code",
   "execution_count": 1,
   "id": "initial_id",
   "metadata": {
    "collapsed": true,
    "ExecuteTime": {
     "end_time": "2024-08-16T14:28:18.675201Z",
     "start_time": "2024-08-16T14:28:04.337676Z"
    }
   },
   "outputs": [],
   "source": [
    "import pandas as pd\n",
    "import numpy as np\n",
    "import geopandas as gpd\n",
    "import matplotlib.pyplot as plt\n"
   ]
  },
  {
   "cell_type": "code",
   "execution_count": 3,
   "outputs": [],
   "source": [
    "appearances_df = pd.read_csv('/Users/marvel/Downloads/Assignment Data 2023-2024/appearances.csv')\n",
    "games_df = pd.read_csv('/Users/marvel/Downloads/Assignment Data 2023-2024/games.csv')\n",
    "club_games_df = pd.read_csv('/Users/marvel/Downloads/Assignment Data 2023-2024/club_games.csv')\n",
    "game_events_df = pd.read_csv('/Users/marvel/Downloads/Assignment Data 2023-2024/game_events.csv')\n",
    "clubs_df = pd.read_csv('/Users/marvel/Downloads/Assignment Data 2023-2024/clubs.csv')\n",
    "competition_df = pd.read_csv('/Users/marvel/Downloads/Assignment Data 2023-2024/competitions.csv')\n",
    "game_lineups_df = pd.read_csv('/Users/marvel/Downloads/Assignment Data 2023-2024/game_lineups.csv')\n",
    "player_valuations_df = pd.read_csv('/Users/marvel/Downloads/Assignment Data 2023-2024/player_valuations.csv')\n",
    "players_df = pd.read_csv('/Users/marvel/Downloads/Assignment Data 2023-2024/players.csv')\n"
   ],
   "metadata": {
    "collapsed": false,
    "ExecuteTime": {
     "end_time": "2024-08-16T14:30:05.742160Z",
     "start_time": "2024-08-16T14:29:55.301536Z"
    }
   },
   "id": "c54449e034ebbea"
  },
  {
   "cell_type": "code",
   "execution_count": 4,
   "outputs": [
    {
     "name": "stdout",
     "output_type": "stream",
     "text": [
      "    appearance_id  game_id  player_id  player_club_id  player_current_club_id  \\\n",
      "0   2231978_38004  2231978      38004             853                     235   \n",
      "1   2233748_79232  2233748      79232            8841                    2698   \n",
      "2   2234413_42792  2234413      42792            6251                     465   \n",
      "3   2234418_73333  2234418      73333            1274                    6646   \n",
      "4  2234421_122011  2234421     122011             195                    3008   \n",
      "\n",
      "         date       player_name competition_id  yellow_cards  red_cards  \\\n",
      "0  2012-07-03  Aurélien Joachim            CLQ             0          0   \n",
      "1  2012-07-05    Ruslan Abyshov            ELQ             0          0   \n",
      "2  2012-07-05       Sander Puri            ELQ             0          0   \n",
      "3  2012-07-05   Vegar Hedenstad            ELQ             0          0   \n",
      "4  2012-07-05  Markus Henriksen            ELQ             0          0   \n",
      "\n",
      "   goals  assists  minutes_played  \n",
      "0      2        0              90  \n",
      "1      0        0              90  \n",
      "2      0        0              45  \n",
      "3      0        0              90  \n",
      "4      0        1              90  \n",
      "   game_id competition_id  season         round        date  home_club_id  \\\n",
      "0  2222597            RU1    2012   6. Matchday  2012-08-25          3725   \n",
      "1  2222627            RU1    2012   5. Matchday  2012-08-20          2696   \n",
      "2  2222658            RU1    2012  10. Matchday  2012-09-30          2410   \n",
      "3  2222664            RU1    2012   8. Matchday  2012-09-15           932   \n",
      "4  2222683            RU1    2012  12. Matchday  2012-10-22          2696   \n",
      "\n",
      "   away_club_id  home_club_goals  away_club_goals  home_club_position  ...  \\\n",
      "0           232                2                1                 2.0  ...   \n",
      "1          4128                0                2                11.0  ...   \n",
      "2           121                0                2                 2.0  ...   \n",
      "3          2698                1                0                 5.0  ...   \n",
      "4         12438                0                1                11.0  ...   \n",
      "\n",
      "        stadium attendance               referee  \\\n",
      "0  Akhmat-Arena    21700.0  Vladislav Bezborodov   \n",
      "1     Metallurg    11400.0         Sergey Ivanov   \n",
      "2  Arena Khimki    12000.0        Sergey Karasev   \n",
      "3     RZD Arena    11408.0        Sergey Karasev   \n",
      "4     Metallurg     7534.0     Timur Arslanbekov   \n",
      "\n",
      "                                                 url  home_club_formation  \\\n",
      "0  https://www.transfermarkt.co.uk/terek-grozny_s...                  NaN   \n",
      "1  https://www.transfermarkt.co.uk/krylya-sovetov...                  NaN   \n",
      "2  https://www.transfermarkt.co.uk/cska-moscow_di...                  NaN   \n",
      "3  https://www.transfermarkt.co.uk/lokomotiv-mosc...                  NaN   \n",
      "4  https://www.transfermarkt.co.uk/krylya-sovetov...                  NaN   \n",
      "\n",
      "  away_club_formation                      home_club_name  \\\n",
      "0                 NaN                   RFK Akhmat Grozny   \n",
      "1                 NaN           PFK Krylya Sovetov Samara   \n",
      "2                 NaN                     PFK CSKA Moskva   \n",
      "3                 NaN  Футбольный клуб \"Локомотив\" Москва   \n",
      "4                 NaN           PFK Krylya Sovetov Samara   \n",
      "\n",
      "                    away_club_name aggregate competition_type  \n",
      "0                FK Spartak Moskva       2:1  domestic_league  \n",
      "1                       Amkar Perm       0:2  domestic_league  \n",
      "2                 FK Dinamo Moskva       0:2  domestic_league  \n",
      "3                   FC Rubin Kazan       1:0  domestic_league  \n",
      "4  Volga Nizhniy Novgorod (- 2016)       0:1  domestic_league  \n",
      "\n",
      "[5 rows x 23 columns]\n",
      "   game_id  club_id  own_goals  own_position      own_manager_name  \\\n",
      "0  2221751      431          1           NaN         Lutz Göttling   \n",
      "1  2221755       83          3           NaN      Ralph Hasenhüttl   \n",
      "2  2222597     3725          2           2.0  Stanislav Cherchesov   \n",
      "3  2222627     2696          0          11.0        Andrey Kobelev   \n",
      "4  2222658     2410          0           2.0        Leonid Slutski   \n",
      "\n",
      "   opponent_id  opponent_goals  opponent_position opponent_manager_name  \\\n",
      "0           60               2                NaN     Christian Streich   \n",
      "1         4795               0                NaN            Tomas Oral   \n",
      "2          232               1                5.0            Unai Emery   \n",
      "3         4128               2               10.0         Rustem Khuzin   \n",
      "4          121               2               13.0          Dan Petrescu   \n",
      "\n",
      "  hosting  is_win  \n",
      "0    Home       0  \n",
      "1    Home       1  \n",
      "2    Home       1  \n",
      "3    Home       0  \n",
      "4    Home       0  \n",
      "                      game_event_id        date  game_id  minute  \\\n",
      "0  2f41da30c471492e7d4a984951671677  2012-08-05  2211607      77   \n",
      "1  a72f7186d132775f234d3e2f7bc0ed5b  2012-08-05  2211607      77   \n",
      "2  b2d721eaed4692a5c59a92323689ef18  2012-08-05  2211607       3   \n",
      "3  aef768899cedac0c9a650980219075a2  2012-08-05  2211607      53   \n",
      "4  5d6d9533023057b6619ecd145a038bbe  2012-08-05  2211607      74   \n",
      "\n",
      "            type  club_id  player_id  \\\n",
      "0          Cards      610       4425   \n",
      "1          Cards      383      33210   \n",
      "2          Goals      383      36500   \n",
      "3          Goals      383      36500   \n",
      "4  Substitutions      383      36500   \n",
      "\n",
      "                                         description  player_in_id  \\\n",
      "0               1. Yellow card  , Mass confrontation           NaN   \n",
      "1               1. Yellow card  , Mass confrontation           NaN   \n",
      "2  , Header, 1. Tournament Goal Assist: , Corner,...           NaN   \n",
      "3  , Right-footed shot, 2. Tournament Goal Assist...           NaN   \n",
      "4                                     , Not reported       49499.0   \n",
      "\n",
      "   player_assist_id  \n",
      "0               NaN  \n",
      "1               NaN  \n",
      "2           56416.0  \n",
      "3          146258.0  \n",
      "4               NaN  \n",
      "   club_id          club_code                              name  \\\n",
      "0      105    sv-darmstadt-98  Sportverein Darmstadt 1898 e. V.   \n",
      "1    11127  ural-ekaterinburg             FK Ural Yekaterinburg   \n",
      "2      114  besiktas-istanbul         Beşiktaş Jimnastik Kulübü   \n",
      "3       12             as-rom        Associazione Sportiva Roma   \n",
      "4      148  tottenham-hotspur   Tottenham Hotspur Football Club   \n",
      "\n",
      "  domestic_competition_id  total_market_value  squad_size  average_age  \\\n",
      "0                      L1                 NaN          30         26.4   \n",
      "1                     RU1                 NaN          25         28.2   \n",
      "2                     TR1                 NaN          32         27.4   \n",
      "3                     IT1                 NaN          26         27.4   \n",
      "4                     GB1                 NaN          29         26.2   \n",
      "\n",
      "   foreigners_number  foreigners_percentage  national_team_players  \\\n",
      "0                 11                   36.7                      1   \n",
      "1                 13                   52.0                      5   \n",
      "2                 16                   50.0                     13   \n",
      "3                 17                   65.4                     17   \n",
      "4                 21                   72.4                     22   \n",
      "\n",
      "                     stadium_name  stadium_seats net_transfer_record  \\\n",
      "0  Merck-Stadion am Böllenfalltor          17810             €-1.60m   \n",
      "1             Yekaterinburg Arena          23000              €-770k   \n",
      "2                 Tüpraş Stadyumu          42590            €-14.50m   \n",
      "3                Olimpico di Roma          73261            +€65.20m   \n",
      "4       Tottenham Hotspur Stadium          62062           €-130.40m   \n",
      "\n",
      "   coach_name  last_season                                                url  \n",
      "0         NaN         2023  https://www.transfermarkt.co.uk/sv-darmstadt-9...  \n",
      "1         NaN         2023  https://www.transfermarkt.co.uk/ural-ekaterinb...  \n",
      "2         NaN         2023  https://www.transfermarkt.co.uk/besiktas-istan...  \n",
      "3         NaN         2023  https://www.transfermarkt.co.uk/as-rom/startse...  \n",
      "4         NaN         2023  https://www.transfermarkt.co.uk/tottenham-hots...  \n",
      "  competition_id               competition_code  \\\n",
      "0            CIT                      italy-cup   \n",
      "1           NLSC           johan-cruijff-schaal   \n",
      "2            GRP                kypello-elladas   \n",
      "3           POSU  supertaca-candido-de-oliveira   \n",
      "4           RUSS              russian-super-cup   \n",
      "\n",
      "                            name            sub_type          type  \\\n",
      "0                      italy-cup        domestic_cup  domestic_cup   \n",
      "1           johan-cruijff-schaal  domestic_super_cup         other   \n",
      "2                kypello-elladas        domestic_cup  domestic_cup   \n",
      "3  supertaca-candido-de-oliveira  domestic_super_cup         other   \n",
      "4              russian-super-cup  domestic_super_cup         other   \n",
      "\n",
      "   country_id country_name domestic_league_code confederation  \\\n",
      "0          75        Italy                  IT1        europa   \n",
      "1         122  Netherlands                  NL1        europa   \n",
      "2          56       Greece                  GR1        europa   \n",
      "3         136     Portugal                  PO1        europa   \n",
      "4         141       Russia                  RU1        europa   \n",
      "\n",
      "                                                 url  \n",
      "0  https://www.transfermarkt.co.uk/italy-cup/star...  \n",
      "1  https://www.transfermarkt.co.uk/johan-cruijff-...  \n",
      "2  https://www.transfermarkt.co.uk/kypello-ellada...  \n",
      "3  https://www.transfermarkt.co.uk/supertaca-cand...  \n",
      "4  https://www.transfermarkt.co.uk/russian-super-...  \n",
      "                    game_lineups_id  game_id  club_id             type number  \\\n",
      "0  77b0f371923e0c8bdf050a1e269faaac  3606208      338  starting_lineup     89   \n",
      "1  cb6eeedb9f728570615d37b6fe7facaf  3606208      338  starting_lineup     10   \n",
      "2  8e63d5f47aac2bdb0e54f5481986e104  3606208      338  starting_lineup      5   \n",
      "3  ea4a96d8be410f2d646cf095c4faae7f  3606208      338  starting_lineup     94   \n",
      "4  e6abe553801b09bc623c3deb96acba17  3606208      338  starting_lineup     16   \n",
      "\n",
      "   player_id         player_name  team_captain            position  \n",
      "0     419061  Vladyslav Supryaga             0      Centre-Forward  \n",
      "1     368611   Mykola Shaparenko             0    Central Midfield  \n",
      "2     124182    Sergiy Sydorchuk             1  Defensive Midfield  \n",
      "3     181118     Tomasz Kedziora             0          Right-Back  \n",
      "4     404842   Vitaliy Mykolenko             0           Left-Back  \n",
      "   player_id  last_season             datetime        date    dateweek  \\\n",
      "0       3132         2013  2003-12-09 00:00:00  2003-12-09  2003-12-08   \n",
      "1       6893         2012  2003-12-15 00:00:00  2003-12-15  2003-12-15   \n",
      "2         10         2015  2004-10-04 00:00:00  2004-10-04  2004-10-04   \n",
      "3         26         2017  2004-10-04 00:00:00  2004-10-04  2004-10-04   \n",
      "4         65         2015  2004-10-04 00:00:00  2004-10-04  2004-10-04   \n",
      "\n",
      "   market_value_in_eur  n  current_club_id player_club_domestic_competition_id  \n",
      "0               400000  1              126                                 TR1  \n",
      "1               900000  1              984                                 GB1  \n",
      "2              7000000  1              398                                 IT1  \n",
      "3              1500000  1               16                                  L1  \n",
      "4              8000000  1             1091                                 GR1  \n",
      "   player_id first_name   last_name              name  last_season  \\\n",
      "0        598       Timo  Hildebrand   Timo Hildebrand         2014   \n",
      "1        670     Martin      Petrov     Martin Petrov         2012   \n",
      "2       1323     Martin     Amedick    Martin Amedick         2012   \n",
      "3       3195   Jermaine     Pennant  Jermaine Pennant         2013   \n",
      "4       3259     Damien        Duff       Damien Duff         2013   \n",
      "\n",
      "   current_club_id       player_code country_of_birth city_of_birth  \\\n",
      "0               24   timo-hildebrand          Germany         Worms   \n",
      "1              714     martin-petrov         Bulgaria        Vratsa   \n",
      "2               24    martin-amedick          Germany     Paderborn   \n",
      "3              512  jermaine-pennant          England    Nottingham   \n",
      "4              931       damien-duff          Ireland    Ballyboden   \n",
      "\n",
      "  country_of_citizenship  ...   foot height_in_cm market_value_in_eur  \\\n",
      "0                Germany  ...    NaN          NaN                 NaN   \n",
      "1               Bulgaria  ...    NaN          NaN                 NaN   \n",
      "2                Germany  ...    NaN          NaN                 NaN   \n",
      "3                England  ...  right        173.0                 NaN   \n",
      "4                Ireland  ...   left        177.0                 NaN   \n",
      "\n",
      "  highest_market_value_in_eur  contract_expiration_date  agent_name  \\\n",
      "0                  10000000.0                       NaN         NaN   \n",
      "1                  12000000.0                       NaN         IFM   \n",
      "2                   2750000.0                       NaN         NaN   \n",
      "3                  10500000.0                       NaN  Andrew Sky   \n",
      "4                  17000000.0                       NaN         NaN   \n",
      "\n",
      "                                           image_url  \\\n",
      "0  https://img.a.transfermarkt.technology/portrai...   \n",
      "1  https://img.a.transfermarkt.technology/portrai...   \n",
      "2  https://img.a.transfermarkt.technology/portrai...   \n",
      "3  https://img.a.transfermarkt.technology/portrai...   \n",
      "4  https://img.a.transfermarkt.technology/portrai...   \n",
      "\n",
      "                                                 url  \\\n",
      "0  https://www.transfermarkt.co.uk/timo-hildebran...   \n",
      "1  https://www.transfermarkt.co.uk/martin-petrov/...   \n",
      "2  https://www.transfermarkt.co.uk/martin-amedick...   \n",
      "3  https://www.transfermarkt.co.uk/jermaine-penna...   \n",
      "4  https://www.transfermarkt.co.uk/damien-duff/pr...   \n",
      "\n",
      "  current_club_domestic_competition_id       current_club_name  \n",
      "0                                   L1     Eintracht Frankfurt  \n",
      "1                                  ES1  RCD Espanyol Barcelona  \n",
      "2                                   L1     Eintracht Frankfurt  \n",
      "3                                  GB1              Stoke City  \n",
      "4                                  GB1               Fulham FC  \n",
      "\n",
      "[5 rows x 23 columns]\n"
     ]
    }
   ],
   "source": [
    "# Inspect the data\n",
    "print(appearances_df.head())\n",
    "print(games_df.head())\n",
    "print(club_games_df.head())\n",
    "print(game_events_df.head())\n",
    "print(clubs_df.head())\n",
    "print(competition_df.head())\n",
    "print(game_lineups_df.head())\n",
    "print(player_valuations_df.head())\n",
    "print(players_df.head())\n"
   ],
   "metadata": {
    "collapsed": false,
    "ExecuteTime": {
     "end_time": "2024-08-16T14:31:15.057941Z",
     "start_time": "2024-08-16T14:31:14.858744Z"
    }
   },
   "id": "8ec8709a744210bd"
  },
  {
   "cell_type": "markdown",
   "source": [
    "# Cleaning for Appearances Table"
   ],
   "metadata": {
    "collapsed": false
   },
   "id": "c902ecba4fe6921a"
  },
  {
   "cell_type": "code",
   "execution_count": 5,
   "outputs": [
    {
     "name": "stdout",
     "output_type": "stream",
     "text": [
      "Missing data in Appearances table:\n",
      "appearance_id               0\n",
      "game_id                     0\n",
      "player_id                   0\n",
      "player_club_id              0\n",
      "player_current_club_id      0\n",
      "date                        0\n",
      "player_name               324\n",
      "competition_id              0\n",
      "yellow_cards                0\n",
      "red_cards                   0\n",
      "goals                       0\n",
      "assists                     0\n",
      "minutes_played              0\n",
      "dtype: int64\n",
      "After cleaning:\n",
      "appearance_id             0\n",
      "game_id                   0\n",
      "player_id                 0\n",
      "player_club_id            0\n",
      "player_current_club_id    0\n",
      "date                      0\n",
      "player_name               0\n",
      "competition_id            0\n",
      "yellow_cards              0\n",
      "red_cards                 0\n",
      "goals                     0\n",
      "assists                   0\n",
      "minutes_played            0\n",
      "dtype: int64\n"
     ]
    }
   ],
   "source": [
    "print(\"Missing data in Appearances table:\")\n",
    "print(appearances_df.isnull().sum())\n",
    "\n",
    "appearances_df['yellow_cards'] = appearances_df['yellow_cards'].fillna(0)\n",
    "appearances_df['red_cards'] = appearances_df['red_cards'].fillna(0)\n",
    "appearances_df['goals'] = appearances_df['goals'].fillna(0)\n",
    "appearances_df['assists'] = appearances_df['assists'].fillna(0)\n",
    "appearances_df['minutes_played'] = appearances_df['minutes_played'].fillna(0)\n",
    "\n",
    "appearances_df = appearances_df.dropna(subset=['player_name'])\n",
    "\n",
    "print(\"After cleaning:\")\n",
    "print(appearances_df.isnull().sum())\n"
   ],
   "metadata": {
    "collapsed": false,
    "ExecuteTime": {
     "end_time": "2024-08-16T14:34:19.772925Z",
     "start_time": "2024-08-16T14:34:15.033145Z"
    }
   },
   "id": "9f205204b0ea7e18"
  },
  {
   "cell_type": "markdown",
   "source": [
    "# Cleaning for the Games table"
   ],
   "metadata": {
    "collapsed": false
   },
   "id": "46d6c0ce1b800df0"
  },
  {
   "cell_type": "code",
   "execution_count": 10,
   "outputs": [
    {
     "name": "stdout",
     "output_type": "stream",
     "text": [
      "Missing data in Games table:\n",
      "game_id                       0\n",
      "competition_id                0\n",
      "season                        0\n",
      "round                         0\n",
      "date                          0\n",
      "home_club_id                  0\n",
      "away_club_id                  0\n",
      "home_club_goals               0\n",
      "away_club_goals               0\n",
      "home_club_position        19454\n",
      "away_club_position        19454\n",
      "home_club_manager_name      742\n",
      "away_club_manager_name      742\n",
      "stadium                     211\n",
      "attendance                 9512\n",
      "referee                     594\n",
      "url                           0\n",
      "home_club_formation       62347\n",
      "away_club_formation       62328\n",
      "home_club_name            11252\n",
      "away_club_name            10049\n",
      "aggregate                     0\n",
      "competition_type              0\n",
      "dtype: int64\n",
      "After cleaning:\n",
      "game_id                       0\n",
      "competition_id                0\n",
      "season                        0\n",
      "round                         0\n",
      "date                          0\n",
      "home_club_id                  0\n",
      "away_club_id                  0\n",
      "home_club_goals               0\n",
      "away_club_goals               0\n",
      "home_club_position            0\n",
      "away_club_position            0\n",
      "home_club_manager_name        0\n",
      "away_club_manager_name        0\n",
      "stadium                       0\n",
      "attendance                    0\n",
      "referee                     594\n",
      "url                           0\n",
      "home_club_formation       62347\n",
      "away_club_formation       62328\n",
      "home_club_name            11252\n",
      "away_club_name            10049\n",
      "aggregate                     0\n",
      "competition_type              0\n",
      "dtype: int64\n"
     ]
    }
   ],
   "source": [
    "print(\"Missing data in Games table:\")\n",
    "print(games_df.isnull().sum())\n",
    "\n",
    "games_df['home_club_goals'] = games_df['home_club_goals'].fillna(0)\n",
    "games_df['away_club_goals'] = games_df['away_club_goals'].fillna(0)\n",
    "games_df['home_club_position'] = games_df['home_club_position'].fillna('Unknown')\n",
    "games_df['away_club_position'] = games_df['away_club_position'].fillna('Unknown')\n",
    "games_df['home_club_manager_name'] = games_df['home_club_manager_name'].fillna('Unknown')\n",
    "games_df['away_club_manager_name'] = games_df['away_club_manager_name'].fillna('Unknown')\n",
    "games_df['stadium'] = games_df['stadium'].fillna('Unknown')\n",
    "games_df['attendance'] = games_df['attendance'].fillna(0)\n",
    "\n",
    "print(\"After cleaning:\")\n",
    "print(games_df.isnull().sum())\n"
   ],
   "metadata": {
    "collapsed": false,
    "ExecuteTime": {
     "end_time": "2024-08-16T14:37:25.953751Z",
     "start_time": "2024-08-16T14:37:25.556040Z"
    }
   },
   "id": "e5457d5855f6c012"
  },
  {
   "cell_type": "markdown",
   "source": [
    "# Cleaning for the club games table"
   ],
   "metadata": {
    "collapsed": false
   },
   "id": "e918a0bf02686d4e"
  },
  {
   "cell_type": "code",
   "execution_count": 11,
   "outputs": [
    {
     "name": "stdout",
     "output_type": "stream",
     "text": [
      "Missing data in Club Games table:\n",
      "game_id                      0\n",
      "club_id                      0\n",
      "own_goals                    0\n",
      "own_position             38908\n",
      "own_manager_name          1484\n",
      "opponent_id                  0\n",
      "opponent_goals               0\n",
      "opponent_position        38908\n",
      "opponent_manager_name     1484\n",
      "hosting                      0\n",
      "is_win                       0\n",
      "dtype: int64\n",
      "After cleaning:\n",
      "game_id                  0\n",
      "club_id                  0\n",
      "own_goals                0\n",
      "own_position             0\n",
      "own_manager_name         0\n",
      "opponent_id              0\n",
      "opponent_goals           0\n",
      "opponent_position        0\n",
      "opponent_manager_name    0\n",
      "hosting                  0\n",
      "is_win                   0\n",
      "dtype: int64\n"
     ]
    }
   ],
   "source": [
    "print(\"Missing data in Club Games table:\")\n",
    "print(club_games_df.isnull().sum())\n",
    "\n",
    "club_games_df['own_goals'] = club_games_df['own_goals'].fillna(0)\n",
    "club_games_df['opponent_goals'] = club_games_df['opponent_goals'].fillna(0)\n",
    "club_games_df['own_position'] = club_games_df['own_position'].fillna('Unknown')\n",
    "club_games_df['opponent_position'] = club_games_df['opponent_position'].fillna('Unknown')\n",
    "club_games_df['own_manager_name'] = club_games_df['own_manager_name'].fillna('Unknown')\n",
    "club_games_df['opponent_manager_name'] = club_games_df['opponent_manager_name'].fillna('Unknown')\n",
    "\n",
    "print(\"After cleaning:\")\n",
    "print(club_games_df.isnull().sum())\n"
   ],
   "metadata": {
    "collapsed": false,
    "ExecuteTime": {
     "end_time": "2024-08-16T14:41:11.321272Z",
     "start_time": "2024-08-16T14:41:10.933838Z"
    }
   },
   "id": "cea8dd00a59dfbc1"
  },
  {
   "cell_type": "markdown",
   "source": [
    "# Cleaning data for the Game Events table"
   ],
   "metadata": {
    "collapsed": false
   },
   "id": "f7a452a4b716a4c7"
  },
  {
   "cell_type": "code",
   "execution_count": 12,
   "outputs": [
    {
     "name": "stdout",
     "output_type": "stream",
     "text": [
      "Missing data in Game Events table:\n",
      "game_event_id            0\n",
      "date                     0\n",
      "game_id                  0\n",
      "minute                   0\n",
      "type                     0\n",
      "club_id                  0\n",
      "player_id                0\n",
      "description         336325\n",
      "player_in_id        245309\n",
      "player_assist_id    635701\n",
      "dtype: int64\n",
      "After cleaning:\n",
      "game_event_id       0\n",
      "date                0\n",
      "game_id             0\n",
      "minute              0\n",
      "type                0\n",
      "club_id             0\n",
      "player_id           0\n",
      "description         0\n",
      "player_in_id        0\n",
      "player_assist_id    0\n",
      "dtype: int64\n"
     ]
    }
   ],
   "source": [
    "print(\"Missing data in Game Events table:\")\n",
    "print(game_events_df.isnull().sum())\n",
    "\n",
    "game_events_df['minute'] = game_events_df['minute'].fillna(0)\n",
    "game_events_df['type'] = game_events_df['type'].fillna('Unknown')\n",
    "game_events_df['description'] = game_events_df['description'].fillna('No description')\n",
    "game_events_df['player_id'] = game_events_df['player_id'].fillna(0)\n",
    "game_events_df['player_in_id'] = game_events_df['player_in_id'].fillna(0)\n",
    "game_events_df['player_assist_id'] = game_events_df['player_assist_id'].fillna(0)\n",
    "\n",
    "print(\"After cleaning:\")\n",
    "print(game_events_df.isnull().sum())\n"
   ],
   "metadata": {
    "collapsed": false,
    "ExecuteTime": {
     "end_time": "2024-08-16T14:43:26.420791Z",
     "start_time": "2024-08-16T14:43:24.604414Z"
    }
   },
   "id": "66729789052c4985"
  },
  {
   "cell_type": "markdown",
   "source": [
    "# Cleaning data for the Clubs table"
   ],
   "metadata": {
    "collapsed": false
   },
   "id": "5391d05b51f66ce8"
  },
  {
   "cell_type": "code",
   "execution_count": 13,
   "outputs": [
    {
     "name": "stdout",
     "output_type": "stream",
     "text": [
      "Missing data in Clubs table:\n",
      "club_id                      0\n",
      "club_code                    0\n",
      "name                         0\n",
      "domestic_competition_id      0\n",
      "total_market_value         426\n",
      "squad_size                   0\n",
      "average_age                 38\n",
      "foreigners_number            0\n",
      "foreigners_percentage       47\n",
      "national_team_players        0\n",
      "stadium_name                 0\n",
      "stadium_seats                0\n",
      "net_transfer_record          0\n",
      "coach_name                 426\n",
      "last_season                  0\n",
      "url                          0\n",
      "dtype: int64\n",
      "After cleaning:\n",
      "club_id                    0\n",
      "club_code                  0\n",
      "name                       0\n",
      "domestic_competition_id    0\n",
      "total_market_value         0\n",
      "squad_size                 0\n",
      "average_age                0\n",
      "foreigners_number          0\n",
      "foreigners_percentage      0\n",
      "national_team_players      0\n",
      "stadium_name               0\n",
      "stadium_seats              0\n",
      "net_transfer_record        0\n",
      "coach_name                 0\n",
      "last_season                0\n",
      "url                        0\n",
      "dtype: int64\n"
     ]
    }
   ],
   "source": [
    "print(\"Missing data in Clubs table:\")\n",
    "print(clubs_df.isnull().sum())\n",
    "\n",
    "clubs_df['total_market_value'] = clubs_df['total_market_value'].fillna(0)\n",
    "clubs_df['squad_size'] = clubs_df['squad_size'].fillna(0)\n",
    "clubs_df['average_age'] = clubs_df['average_age'].fillna(clubs_df['average_age'].mean())  # Fill with mean\n",
    "clubs_df['foreigners_number'] = clubs_df['foreigners_number'].fillna(0)\n",
    "clubs_df['foreigners_percentage'] = clubs_df['foreigners_percentage'].fillna(0)\n",
    "clubs_df['national_team_players'] = clubs_df['national_team_players'].fillna(0)\n",
    "clubs_df['stadium_name'] = clubs_df['stadium_name'].fillna('Unknown')\n",
    "clubs_df['stadium_seats'] = clubs_df['stadium_seats'].fillna(0)\n",
    "clubs_df['net_transfer_record'] = clubs_df['net_transfer_record'].fillna(0)\n",
    "clubs_df['coach_name'] = clubs_df['coach_name'].fillna('Unknown')\n",
    "\n",
    "print(\"After cleaning:\")\n",
    "print(clubs_df.isnull().sum())\n"
   ],
   "metadata": {
    "collapsed": false,
    "ExecuteTime": {
     "end_time": "2024-08-16T14:46:16.922503Z",
     "start_time": "2024-08-16T14:46:16.825735Z"
    }
   },
   "id": "dc41d647189b36bc"
  },
  {
   "cell_type": "markdown",
   "source": [
    "# Cleaning data for the Competition table"
   ],
   "metadata": {
    "collapsed": false
   },
   "id": "510e08cb12e31a3e"
  },
  {
   "cell_type": "code",
   "execution_count": 14,
   "outputs": [
    {
     "name": "stdout",
     "output_type": "stream",
     "text": [
      "Missing data in Competition table:\n",
      "competition_id          0\n",
      "competition_code        0\n",
      "name                    0\n",
      "sub_type                0\n",
      "type                    0\n",
      "country_id              0\n",
      "country_name            7\n",
      "domestic_league_code    7\n",
      "confederation           0\n",
      "url                     0\n",
      "dtype: int64\n",
      "After cleaning:\n",
      "competition_id          0\n",
      "competition_code        0\n",
      "name                    0\n",
      "sub_type                0\n",
      "type                    0\n",
      "country_id              0\n",
      "country_name            7\n",
      "domestic_league_code    0\n",
      "confederation           0\n",
      "url                     0\n",
      "dtype: int64\n"
     ]
    }
   ],
   "source": [
    "print(\"Missing data in Competition table:\")\n",
    "print(competition_df.isnull().sum())\n",
    "\n",
    "competition_df['sub_type'] = competition_df['sub_type'].fillna('Unknown')\n",
    "competition_df['domestic_league_code'] = competition_df['domestic_league_code'].fillna('Unknown')\n",
    "competition_df['confederation'] = competition_df['confederation'].fillna('Unknown')\n",
    "\n",
    "print(\"After cleaning:\")\n",
    "print(competition_df.isnull().sum())\n"
   ],
   "metadata": {
    "collapsed": false,
    "ExecuteTime": {
     "end_time": "2024-08-16T14:47:42.320768Z",
     "start_time": "2024-08-16T14:47:42.183412Z"
    }
   },
   "id": "237ad4d29df0e038"
  },
  {
   "cell_type": "markdown",
   "source": [
    "# Cleaning Game Lineups Table"
   ],
   "metadata": {
    "collapsed": false
   },
   "id": "26406e3849204fa5"
  },
  {
   "cell_type": "code",
   "execution_count": 15,
   "outputs": [
    {
     "name": "stdout",
     "output_type": "stream",
     "text": [
      "Missing data in Game Lineups table:\n",
      "game_lineups_id    0\n",
      "game_id            0\n",
      "club_id            0\n",
      "type               0\n",
      "number             0\n",
      "player_id          0\n",
      "player_name        0\n",
      "team_captain       0\n",
      "position           0\n",
      "dtype: int64\n",
      "After cleaning:\n",
      "game_lineups_id    0\n",
      "game_id            0\n",
      "club_id            0\n",
      "type               0\n",
      "number             0\n",
      "player_id          0\n",
      "player_name        0\n",
      "team_captain       0\n",
      "position           0\n",
      "dtype: int64\n"
     ]
    }
   ],
   "source": [
    "print(\"Missing data in Game Lineups table:\")\n",
    "print(game_lineups_df.isnull().sum())\n",
    "\n",
    "game_lineups_df['number'] = game_lineups_df['number'].fillna(0)\n",
    "game_lineups_df['player_name'] = game_lineups_df['player_name'].fillna('Unknown')\n",
    "game_lineups_df['team_captain'] = game_lineups_df['team_captain'].fillna(False)\n",
    "game_lineups_df['position'] = game_lineups_df['position'].fillna('Unknown')\n",
    "\n",
    "print(\"After cleaning:\")\n",
    "print(game_lineups_df.isnull().sum())\n"
   ],
   "metadata": {
    "collapsed": false,
    "ExecuteTime": {
     "end_time": "2024-08-16T14:51:19.555917Z",
     "start_time": "2024-08-16T14:51:19.026834Z"
    }
   },
   "id": "15685bcf9145469e"
  },
  {
   "cell_type": "markdown",
   "source": [
    "# Cleaning the Player Valuation table"
   ],
   "metadata": {
    "collapsed": false
   },
   "id": "78ff2a78be39f25d"
  },
  {
   "cell_type": "code",
   "execution_count": 16,
   "outputs": [
    {
     "name": "stdout",
     "output_type": "stream",
     "text": [
      "Missing data in Player Valuations table:\n",
      "player_id                              0\n",
      "last_season                            0\n",
      "datetime                               0\n",
      "date                                   0\n",
      "dateweek                               0\n",
      "market_value_in_eur                    0\n",
      "n                                      0\n",
      "current_club_id                        0\n",
      "player_club_domestic_competition_id    0\n",
      "dtype: int64\n",
      "After cleaning:\n",
      "player_id                              0\n",
      "last_season                            0\n",
      "datetime                               0\n",
      "date                                   0\n",
      "dateweek                               0\n",
      "market_value_in_eur                    0\n",
      "n                                      0\n",
      "current_club_id                        0\n",
      "player_club_domestic_competition_id    0\n",
      "dtype: int64\n"
     ]
    }
   ],
   "source": [
    "print(\"Missing data in Player Valuations table:\")\n",
    "print(player_valuations_df.isnull().sum())\n",
    "\n",
    "player_valuations_df['market_value_in_eur'] = player_valuations_df['market_value_in_eur'].fillna(0)\n",
    "player_valuations_df['n'] = player_valuations_df['n'].fillna(0)\n",
    "player_valuations_df['current_club_id'] = player_valuations_df['current_club_id'].fillna(0)\n",
    "\n",
    "print(\"After cleaning:\")\n",
    "print(player_valuations_df.isnull().sum())\n"
   ],
   "metadata": {
    "collapsed": false,
    "ExecuteTime": {
     "end_time": "2024-08-16T14:51:58.747078Z",
     "start_time": "2024-08-16T14:51:58.313294Z"
    }
   },
   "id": "139d06d752f39354"
  },
  {
   "cell_type": "markdown",
   "source": [
    "# Cleaning the Players Table"
   ],
   "metadata": {
    "collapsed": false
   },
   "id": "b930986de9f8c8f2"
  },
  {
   "cell_type": "code",
   "execution_count": 18,
   "outputs": [
    {
     "name": "stdout",
     "output_type": "stream",
     "text": [
      "Missing data in Players table:\n",
      "player_id                                  0\n",
      "first_name                              1965\n",
      "last_name                                  0\n",
      "name                                       0\n",
      "last_season                                0\n",
      "current_club_id                            0\n",
      "player_code                                0\n",
      "country_of_birth                           0\n",
      "city_of_birth                              0\n",
      "country_of_citizenship                     0\n",
      "date_of_birth                             47\n",
      "sub_position                               0\n",
      "position                                   0\n",
      "foot                                       0\n",
      "height_in_cm                               0\n",
      "market_value_in_eur                        0\n",
      "highest_market_value_in_eur                0\n",
      "contract_expiration_date                   0\n",
      "agent_name                                 0\n",
      "image_url                                  0\n",
      "url                                        0\n",
      "current_club_domestic_competition_id       0\n",
      "current_club_name                          0\n",
      "dtype: int64\n",
      "After cleaning:\n",
      "player_id                                  0\n",
      "first_name                              1965\n",
      "last_name                                  0\n",
      "name                                       0\n",
      "last_season                                0\n",
      "current_club_id                            0\n",
      "player_code                                0\n",
      "country_of_birth                           0\n",
      "city_of_birth                              0\n",
      "country_of_citizenship                     0\n",
      "date_of_birth                             47\n",
      "sub_position                               0\n",
      "position                                   0\n",
      "foot                                       0\n",
      "height_in_cm                               0\n",
      "market_value_in_eur                        0\n",
      "highest_market_value_in_eur                0\n",
      "contract_expiration_date                   0\n",
      "agent_name                                 0\n",
      "image_url                                  0\n",
      "url                                        0\n",
      "current_club_domestic_competition_id       0\n",
      "current_club_name                          0\n",
      "dtype: int64\n"
     ]
    }
   ],
   "source": [
    "print(\"Missing data in Players table:\")\n",
    "print(players_df.isnull().sum())\n",
    "\n",
    "players_df['country_of_birth'] = players_df['country_of_birth'].fillna('Unknown')\n",
    "players_df['city_of_birth'] = players_df['city_of_birth'].fillna('Unknown')\n",
    "players_df['country_of_citizenship'] = players_df['country_of_citizenship'].fillna('Unknown')\n",
    "players_df['sub_position'] = players_df['sub_position'].fillna('Unknown')\n",
    "players_df['position'] = players_df['position'].fillna('Unknown')\n",
    "players_df['foot'] = players_df['foot'].fillna('Unknown')\n",
    "players_df['height_in_cm'] = players_df['height_in_cm'].fillna(players_df['height_in_cm'].mean())  \n",
    "players_df['market_value_in_eur'] = players_df['market_value_in_eur'].fillna(0)\n",
    "players_df['highest_market_value_in_eur'] = players_df['highest_market_value_in_eur'].fillna(0)\n",
    "players_df['contract_expiration_date'] = players_df['contract_expiration_date'].fillna('Unknown')\n",
    "players_df['agent_name'] = players_df['agent_name'].fillna('Unknown')\n",
    "players_df['image_url'] = players_df['image_url'].fillna('Unknown')\n",
    "\n",
    "print(\"After cleaning:\")\n",
    "print(players_df.isnull().sum())\n"
   ],
   "metadata": {
    "collapsed": false,
    "ExecuteTime": {
     "end_time": "2024-08-16T14:53:27.083748Z",
     "start_time": "2024-08-16T14:53:26.938834Z"
    }
   },
   "id": "723055e19bdb8bf4"
  },
  {
   "cell_type": "markdown",
   "source": [],
   "metadata": {
    "collapsed": false
   },
   "id": "3c5fec79d9af1ceb"
  }
 ],
 "metadata": {
  "kernelspec": {
   "display_name": "Python 3",
   "language": "python",
   "name": "python3"
  },
  "language_info": {
   "codemirror_mode": {
    "name": "ipython",
    "version": 2
   },
   "file_extension": ".py",
   "mimetype": "text/x-python",
   "name": "python",
   "nbconvert_exporter": "python",
   "pygments_lexer": "ipython2",
   "version": "2.7.6"
  }
 },
 "nbformat": 4,
 "nbformat_minor": 5
}
