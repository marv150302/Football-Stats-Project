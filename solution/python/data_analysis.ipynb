{
 "cells": [
  {
   "cell_type": "code",
   "execution_count": 20,
   "id": "48f0164a-6894-44f0-9627-43729a9d90fc",
   "metadata": {
    "ExecuteTime": {
     "end_time": "2024-03-24T15:33:57.474903Z",
     "start_time": "2024-03-24T15:33:57.410185Z"
    }
   },
   "outputs": [],
   "source": [
    "import pandas as pd\n",
    "from flask import Flask, request, jsonify\n",
    "import matplotlib.pyplot as plt\n",
    "import io\n",
    "import base64\n",
    "from flask_cors import CORS\n",
    "\n",
    "\n",
    "\n",
    "\n",
    "\n",
    "app = Flask(__name__)\n",
    "CORS(app, origins='http://localhost')\n",
    "\n",
    "@app.route('/get-graph', methods=['GET'])\n",
    "def get_graph():\n",
    "    # Generate a sample plot (replace this with your actual plot generation logic)\n",
    "    fig, ax = plt.subplots()\n",
    "    ax.plot([1, 2, 3, 4], [1, 4, 2, 3])\n",
    "    ax.set_title('Sample Plot')\n",
    "    ax.set_xlabel('X-axis')\n",
    "    ax.set_ylabel('Y-axis')\n",
    "    \n",
    "    # Convert the plot to a compressed base64 string\n",
    "    buffer = io.BytesIO()\n",
    "    fig.savefig(buffer, format='png')\n",
    "    buffer.seek(0)\n",
    "    compressed_base64_image = base64.b64encode(buffer.getvalue()).decode('utf-8')\n",
    "    compressed_base64_image_url = f\"data:image/png;base64,{compressed_base64_image}\"\n",
    "    \n",
    "    plt.close(fig)  # Close the figure to free up memory\n",
    "    \n",
    "    return jsonify({'compressed_base64_image_url': compressed_base64_image_url})\n",
    "\n",
    "\n",
    "def execute_query(query, csv_file):\n",
    "    table = query.get('table')\n",
    "    filters = query.get('filters', {})\n",
    "\n",
    "    # Read CSV file into a DataFrame\n",
    "    df = pd.read_csv(csv_file)\n",
    "\n",
    "    # Apply filters based on query\n",
    "    for column, value in filters.items():\n",
    "        df = df[df[column] == value]\n",
    "\n",
    "    # Convert filtered DataFrame to list of dictionaries\n",
    "    results_list = df.to_dict(orient='records')\n",
    "\n",
    "    return results_list\n",
    "\n",
    "\n"
   ]
  },
  {
   "cell_type": "code",
   "execution_count": 22,
   "outputs": [
    {
     "name": "stdout",
     "output_type": "stream",
     "text": [
      " * Serving Flask app '__main__'\n",
      " * Debug mode: off\n"
     ]
    },
    {
     "name": "stderr",
     "output_type": "stream",
     "text": [
      "\u001B[31m\u001B[1mWARNING: This is a development server. Do not use it in a production deployment. Use a production WSGI server instead.\u001B[0m\n",
      " * Running on http://127.0.0.1:8887\n",
      "\u001B[33mPress CTRL+C to quit\u001B[0m\n",
      "127.0.0.1 - - [24/Mar/2024 16:34:29] \"GET /get-graph HTTP/1.1\" 200 -\n"
     ]
    }
   ],
   "source": [
    "if __name__ == '__main__':\n",
    "    app.run(port=8887)"
   ],
   "metadata": {
    "collapsed": false,
    "ExecuteTime": {
     "end_time": "2024-03-24T15:34:50.426952Z",
     "start_time": "2024-03-24T15:34:26.647775Z"
    }
   },
   "id": "102c3bd4ec657f74"
  },
  {
   "cell_type": "code",
   "execution_count": 19,
   "outputs": [],
   "source": [],
   "metadata": {
    "collapsed": false,
    "ExecuteTime": {
     "end_time": "2024-03-24T15:33:57.388725Z",
     "start_time": "2024-03-24T15:33:57.354780Z"
    }
   },
   "id": "4328a05a5c00e4a4"
  }
 ],
 "metadata": {
  "kernelspec": {
   "display_name": "Python 3 (ipykernel)",
   "language": "python",
   "name": "python3"
  },
  "language_info": {
   "codemirror_mode": {
    "name": "ipython",
    "version": 3
   },
   "file_extension": ".py",
   "mimetype": "text/x-python",
   "name": "python",
   "nbconvert_exporter": "python",
   "pygments_lexer": "ipython3",
   "version": "3.9.18"
  }
 },
 "nbformat": 4,
 "nbformat_minor": 5
}
