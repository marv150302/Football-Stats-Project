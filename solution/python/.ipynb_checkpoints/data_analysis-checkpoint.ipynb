{
 "cells": [
  {
   "cell_type": "code",
   "execution_count": 5,
   "id": "initial_id",
   "metadata": {
    "collapsed": true,
    "ExecuteTime": {
     "end_time": "2024-03-14T16:01:57.922227Z",
     "start_time": "2024-03-14T16:01:57.870531Z"
    }
   },
   "outputs": [],
   "source": []
  },
  {
   "cell_type": "code",
   "execution_count": 6,
   "outputs": [
    {
     "data": {
      "text/plain": "interactive(children=(Dropdown(description='Columns (PostgreSQL):', options=('column1', 'column2', 'column3'),…",
      "application/vnd.jupyter.widget-view+json": {
       "version_major": 2,
       "version_minor": 0,
       "model_id": "8fb5c28c2daf4474971c6fa08603a645"
      }
     },
     "metadata": {},
     "output_type": "display_data"
    }
   ],
   "source": [
    "import subprocess\n",
    "import sys\n",
    "\n",
    "# Function to install missing packages\n",
    "def install(package):\n",
    "    subprocess.check_call([sys.executable, \"-m\", \"pip\", \"install\", package])\n",
    "\n",
    "# List of required packages\n",
    "required_packages = ['pandas', 'ipywidgets', 'psycopg2', 'pymongo']\n",
    "\n",
    "# Check if each package is installed, and install it if not\n",
    "for package in required_packages:\n",
    "    try:\n",
    "        __import__(package)\n",
    "    except ImportError:\n",
    "        print(f\"Package '{package}' is not installed. Installing...\")\n",
    "        install(package)\n",
    "        print(f\"Package '{package}' has been successfully installed.\")\n",
    "\n",
    "# Import necessary libraries\n",
    "import pandas as pd\n",
    "from ipywidgets import interact, Dropdown, Checkbox\n",
    "import psycopg2\n",
    "from pymongo import MongoClient\n",
    "\n",
    "# Connect to PostgreSQL database\n",
    "conn_postgres = psycopg2.connect(\n",
    "    dbname=\"ProgettoIUMTWEB\",\n",
    "    user=\"postgres\",\n",
    "    password=\"10030707742\",\n",
    "    host=\"localhost\",\n",
    "    port=\"5432\"\n",
    ")\n",
    "\n",
    "# Connect to MongoDB database\n",
    "client = MongoClient('mongodb://localhost:27017')\n",
    "db_mongodb = client['Progetto_IUM_TWEB']\n",
    "\n",
    "# Define a function to fetch data from PostgreSQL based on user input\n",
    "def fetch_data_postgres(columns, filters):\n",
    "    select_clause = \", \".join(columns)\n",
    "    where_clause = \" AND \".join(filters)\n",
    "    query = f\"SELECT {select_clause} FROM your_postgres_table WHERE {where_clause};\"\n",
    "    \n",
    "    try:\n",
    "        result_df = pd.read_sql_query(query, conn_postgres)\n",
    "        return result_df\n",
    "    except Exception as e:\n",
    "        print(\"Error executing PostgreSQL query:\", e)\n",
    "\n",
    "# Define a function to fetch data from MongoDB based on user input\n",
    "def fetch_data_mongodb(filters):\n",
    "    # Construct MongoDB query based on user input\n",
    "    mongodb_query = {}  # Initialize an empty query\n",
    "    # Add filters to the query\n",
    "    for f in filters:\n",
    "        # Modify this section to match your MongoDB document structure and filter criteria\n",
    "        mongodb_query[f] = 'some_value'  # Example filter\n",
    "        \n",
    "    try:\n",
    "        # Execute MongoDB query and convert results to DataFrame\n",
    "        collection = db_mongodb['your_mongodb_collection']\n",
    "        result_df = pd.DataFrame(list(collection.find(mongodb_query)))\n",
    "        return result_df\n",
    "    except Exception as e:\n",
    "        print(\"Error executing MongoDB query:\", e)\n",
    "\n",
    "# Define available columns and filters (for demonstration)\n",
    "available_columns_postgres = ['column1', 'column2', 'column3']\n",
    "available_filters_postgres = ['filter1', 'filter2', 'filter3']\n",
    "available_filters_mongodb = ['filter4', 'filter5', 'filter6']\n",
    "\n",
    "# Create interactive widgets for user input\n",
    "column_selector_postgres = Dropdown(options=available_columns_postgres, value=available_columns_postgres[0], description='Columns (PostgreSQL):')\n",
    "filter_selector_postgres = Dropdown(options=available_filters_postgres, value=available_filters_postgres[0], description='Filter (PostgreSQL):')\n",
    "apply_filter_postgres = Checkbox(value=False, description='Apply Filter (PostgreSQL)')\n",
    "\n",
    "filter_selector_mongodb = Dropdown(options=available_filters_mongodb, value=available_filters_mongodb[0], description='Filter (MongoDB):')\n",
    "apply_filter_mongodb = Checkbox(value=False, description='Apply Filter (MongoDB)')\n",
    "\n",
    "# Define an interactive function to fetch data based on user input\n",
    "@interact(\n",
    "    columns_postgres=column_selector_postgres, \n",
    "    filter_postgres=filter_selector_postgres, \n",
    "    apply_filter_postgres=apply_filter_postgres,\n",
    "    filter_mongodb=filter_selector_mongodb,\n",
    "    apply_filter_mongodb=apply_filter_mongodb\n",
    ")\n",
    "def interactive_query(columns_postgres, filter_postgres, apply_filter_postgres, filter_mongodb, apply_filter_mongodb):\n",
    "    # Fetch data from PostgreSQL based on user input\n",
    "    if apply_filter_postgres:\n",
    "        filters_postgres = [f\"{filter_postgres} = 'some_value'\"]  # Modify as needed\n",
    "    else:\n",
    "        filters_postgres = []\n",
    "    result_df_postgres = fetch_data_postgres([columns_postgres], filters_postgres)\n",
    "    \n",
    "    # Fetch data from MongoDB based on user input\n",
    "    if apply_filter_mongodb:\n",
    "        filters_mongodb = [filter_mongodb]  # Modify as needed\n",
    "    else:\n",
    "        filters_mongodb = []\n",
    "    result_df_mongodb = fetch_data_mongodb(filters_mongodb)\n",
    "    \n",
    "    # Display results\n",
    "    display(result_df_postgres.head())\n",
    "    display(result_df_mongodb.head())\n",
    "\n"
   ],
   "metadata": {
    "collapsed": false,
    "ExecuteTime": {
     "end_time": "2024-03-14T16:01:58.600464Z",
     "start_time": "2024-03-14T16:01:57.906080Z"
    }
   },
   "id": "7ea2e45c5e3bae9e"
  }
 ],
 "metadata": {
  "kernelspec": {
   "display_name": "Python 3",
   "language": "python",
   "name": "python3"
  },
  "language_info": {
   "codemirror_mode": {
    "name": "ipython",
    "version": 2
   },
   "file_extension": ".py",
   "mimetype": "text/x-python",
   "name": "python",
   "nbconvert_exporter": "python",
   "pygments_lexer": "ipython2",
   "version": "2.7.6"
  }
 },
 "nbformat": 4,
 "nbformat_minor": 5
}
